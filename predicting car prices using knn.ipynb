{
 "cells": [
  {
   "cell_type": "code",
   "execution_count": 178,
   "metadata": {
    "collapsed": false,
    "scrolled": true
   },
   "outputs": [
    {
     "data": {
      "text/html": [
       "<div>\n",
       "<style scoped>\n",
       "    .dataframe tbody tr th:only-of-type {\n",
       "        vertical-align: middle;\n",
       "    }\n",
       "\n",
       "    .dataframe tbody tr th {\n",
       "        vertical-align: top;\n",
       "    }\n",
       "\n",
       "    .dataframe thead th {\n",
       "        text-align: right;\n",
       "    }\n",
       "</style>\n",
       "<table border=\"1\" class=\"dataframe\">\n",
       "  <thead>\n",
       "    <tr style=\"text-align: right;\">\n",
       "      <th></th>\n",
       "      <th>3</th>\n",
       "      <th>?</th>\n",
       "      <th>alfa-romero</th>\n",
       "      <th>gas</th>\n",
       "      <th>std</th>\n",
       "      <th>two</th>\n",
       "      <th>convertible</th>\n",
       "      <th>rwd</th>\n",
       "      <th>front</th>\n",
       "      <th>88.60</th>\n",
       "      <th>...</th>\n",
       "      <th>130</th>\n",
       "      <th>mpfi</th>\n",
       "      <th>3.47</th>\n",
       "      <th>2.68</th>\n",
       "      <th>9.00</th>\n",
       "      <th>111</th>\n",
       "      <th>5000</th>\n",
       "      <th>21</th>\n",
       "      <th>27</th>\n",
       "      <th>13495</th>\n",
       "    </tr>\n",
       "  </thead>\n",
       "  <tbody>\n",
       "    <tr>\n",
       "      <th>0</th>\n",
       "      <td>3</td>\n",
       "      <td>?</td>\n",
       "      <td>alfa-romero</td>\n",
       "      <td>gas</td>\n",
       "      <td>std</td>\n",
       "      <td>two</td>\n",
       "      <td>convertible</td>\n",
       "      <td>rwd</td>\n",
       "      <td>front</td>\n",
       "      <td>88.6</td>\n",
       "      <td>...</td>\n",
       "      <td>130</td>\n",
       "      <td>mpfi</td>\n",
       "      <td>3.47</td>\n",
       "      <td>2.68</td>\n",
       "      <td>9.0</td>\n",
       "      <td>111</td>\n",
       "      <td>5000</td>\n",
       "      <td>21</td>\n",
       "      <td>27</td>\n",
       "      <td>16500</td>\n",
       "    </tr>\n",
       "    <tr>\n",
       "      <th>1</th>\n",
       "      <td>1</td>\n",
       "      <td>?</td>\n",
       "      <td>alfa-romero</td>\n",
       "      <td>gas</td>\n",
       "      <td>std</td>\n",
       "      <td>two</td>\n",
       "      <td>hatchback</td>\n",
       "      <td>rwd</td>\n",
       "      <td>front</td>\n",
       "      <td>94.5</td>\n",
       "      <td>...</td>\n",
       "      <td>152</td>\n",
       "      <td>mpfi</td>\n",
       "      <td>2.68</td>\n",
       "      <td>3.47</td>\n",
       "      <td>9.0</td>\n",
       "      <td>154</td>\n",
       "      <td>5000</td>\n",
       "      <td>19</td>\n",
       "      <td>26</td>\n",
       "      <td>16500</td>\n",
       "    </tr>\n",
       "    <tr>\n",
       "      <th>2</th>\n",
       "      <td>2</td>\n",
       "      <td>164</td>\n",
       "      <td>audi</td>\n",
       "      <td>gas</td>\n",
       "      <td>std</td>\n",
       "      <td>four</td>\n",
       "      <td>sedan</td>\n",
       "      <td>fwd</td>\n",
       "      <td>front</td>\n",
       "      <td>99.8</td>\n",
       "      <td>...</td>\n",
       "      <td>109</td>\n",
       "      <td>mpfi</td>\n",
       "      <td>3.19</td>\n",
       "      <td>3.40</td>\n",
       "      <td>10.0</td>\n",
       "      <td>102</td>\n",
       "      <td>5500</td>\n",
       "      <td>24</td>\n",
       "      <td>30</td>\n",
       "      <td>13950</td>\n",
       "    </tr>\n",
       "  </tbody>\n",
       "</table>\n",
       "<p>3 rows × 26 columns</p>\n",
       "</div>"
      ],
      "text/plain": [
       "   3    ?  alfa-romero  gas  std   two  convertible  rwd  front  88.60  ...    \\\n",
       "0  3    ?  alfa-romero  gas  std   two  convertible  rwd  front   88.6  ...     \n",
       "1  1    ?  alfa-romero  gas  std   two    hatchback  rwd  front   94.5  ...     \n",
       "2  2  164         audi  gas  std  four        sedan  fwd  front   99.8  ...     \n",
       "\n",
       "   130  mpfi  3.47  2.68  9.00  111  5000  21  27  13495  \n",
       "0  130  mpfi  3.47  2.68   9.0  111  5000  21  27  16500  \n",
       "1  152  mpfi  2.68  3.47   9.0  154  5000  19  26  16500  \n",
       "2  109  mpfi  3.19  3.40  10.0  102  5500  24  30  13950  \n",
       "\n",
       "[3 rows x 26 columns]"
      ]
     },
     "execution_count": 178,
     "metadata": {},
     "output_type": "execute_result"
    }
   ],
   "source": [
    "import pandas as pd\n",
    "import numpy as np\n",
    "cars = pd.read_csv('imports-85.data')\n",
    "cars.head(3)"
   ]
  },
  {
   "cell_type": "code",
   "execution_count": 179,
   "metadata": {
    "collapsed": false
   },
   "outputs": [
    {
     "data": {
      "text/html": [
       "<div>\n",
       "<style scoped>\n",
       "    .dataframe tbody tr th:only-of-type {\n",
       "        vertical-align: middle;\n",
       "    }\n",
       "\n",
       "    .dataframe tbody tr th {\n",
       "        vertical-align: top;\n",
       "    }\n",
       "\n",
       "    .dataframe thead th {\n",
       "        text-align: right;\n",
       "    }\n",
       "</style>\n",
       "<table border=\"1\" class=\"dataframe\">\n",
       "  <thead>\n",
       "    <tr style=\"text-align: right;\">\n",
       "      <th></th>\n",
       "      <th>symboling</th>\n",
       "      <th>normalized_losses</th>\n",
       "      <th>make</th>\n",
       "      <th>fuel_type</th>\n",
       "      <th>aspiration</th>\n",
       "      <th>num_doors</th>\n",
       "      <th>body_style</th>\n",
       "      <th>drive_wheels</th>\n",
       "      <th>engine_location</th>\n",
       "      <th>wheel_base</th>\n",
       "      <th>...</th>\n",
       "      <th>engine_size</th>\n",
       "      <th>fuel_system</th>\n",
       "      <th>bore</th>\n",
       "      <th>stroke</th>\n",
       "      <th>compression_ratio</th>\n",
       "      <th>horsepower</th>\n",
       "      <th>peak_rpm</th>\n",
       "      <th>city_mpg</th>\n",
       "      <th>highway_mpg</th>\n",
       "      <th>price</th>\n",
       "    </tr>\n",
       "  </thead>\n",
       "  <tbody>\n",
       "    <tr>\n",
       "      <th>0</th>\n",
       "      <td>3</td>\n",
       "      <td>?</td>\n",
       "      <td>alfa-romero</td>\n",
       "      <td>gas</td>\n",
       "      <td>std</td>\n",
       "      <td>two</td>\n",
       "      <td>convertible</td>\n",
       "      <td>rwd</td>\n",
       "      <td>front</td>\n",
       "      <td>88.6</td>\n",
       "      <td>...</td>\n",
       "      <td>130</td>\n",
       "      <td>mpfi</td>\n",
       "      <td>3.47</td>\n",
       "      <td>2.68</td>\n",
       "      <td>9.0</td>\n",
       "      <td>111</td>\n",
       "      <td>5000</td>\n",
       "      <td>21</td>\n",
       "      <td>27</td>\n",
       "      <td>16500</td>\n",
       "    </tr>\n",
       "    <tr>\n",
       "      <th>1</th>\n",
       "      <td>1</td>\n",
       "      <td>?</td>\n",
       "      <td>alfa-romero</td>\n",
       "      <td>gas</td>\n",
       "      <td>std</td>\n",
       "      <td>two</td>\n",
       "      <td>hatchback</td>\n",
       "      <td>rwd</td>\n",
       "      <td>front</td>\n",
       "      <td>94.5</td>\n",
       "      <td>...</td>\n",
       "      <td>152</td>\n",
       "      <td>mpfi</td>\n",
       "      <td>2.68</td>\n",
       "      <td>3.47</td>\n",
       "      <td>9.0</td>\n",
       "      <td>154</td>\n",
       "      <td>5000</td>\n",
       "      <td>19</td>\n",
       "      <td>26</td>\n",
       "      <td>16500</td>\n",
       "    </tr>\n",
       "    <tr>\n",
       "      <th>2</th>\n",
       "      <td>2</td>\n",
       "      <td>164</td>\n",
       "      <td>audi</td>\n",
       "      <td>gas</td>\n",
       "      <td>std</td>\n",
       "      <td>four</td>\n",
       "      <td>sedan</td>\n",
       "      <td>fwd</td>\n",
       "      <td>front</td>\n",
       "      <td>99.8</td>\n",
       "      <td>...</td>\n",
       "      <td>109</td>\n",
       "      <td>mpfi</td>\n",
       "      <td>3.19</td>\n",
       "      <td>3.40</td>\n",
       "      <td>10.0</td>\n",
       "      <td>102</td>\n",
       "      <td>5500</td>\n",
       "      <td>24</td>\n",
       "      <td>30</td>\n",
       "      <td>13950</td>\n",
       "    </tr>\n",
       "  </tbody>\n",
       "</table>\n",
       "<p>3 rows × 26 columns</p>\n",
       "</div>"
      ],
      "text/plain": [
       "   symboling normalized_losses         make fuel_type aspiration num_doors  \\\n",
       "0          3                 ?  alfa-romero       gas        std       two   \n",
       "1          1                 ?  alfa-romero       gas        std       two   \n",
       "2          2               164         audi       gas        std      four   \n",
       "\n",
       "    body_style drive_wheels engine_location  wheel_base  ...    engine_size  \\\n",
       "0  convertible          rwd           front        88.6  ...            130   \n",
       "1    hatchback          rwd           front        94.5  ...            152   \n",
       "2        sedan          fwd           front        99.8  ...            109   \n",
       "\n",
       "   fuel_system  bore  stroke compression_ratio horsepower  peak_rpm city_mpg  \\\n",
       "0         mpfi  3.47    2.68               9.0        111      5000       21   \n",
       "1         mpfi  2.68    3.47               9.0        154      5000       19   \n",
       "2         mpfi  3.19    3.40              10.0        102      5500       24   \n",
       "\n",
       "  highway_mpg  price  \n",
       "0          27  16500  \n",
       "1          26  16500  \n",
       "2          30  13950  \n",
       "\n",
       "[3 rows x 26 columns]"
      ]
     },
     "execution_count": 179,
     "metadata": {},
     "output_type": "execute_result"
    }
   ],
   "source": [
    "cars.columns = ['symboling', 'normalized_losses', 'make', 'fuel_type', 'aspiration', 'num_doors', 'body_style', 'drive_wheels', 'engine_location', 'wheel_base', 'length', 'width', 'height', 'curb_weight', 'engine_type', 'num_cylinders', 'engine_size',  'fuel_system', 'bore', 'stroke', 'compression_ratio', 'horsepower', 'peak_rpm', 'city_mpg', 'highway_mpg', 'price']\n",
    "cars.head(3)"
   ]
  },
  {
   "cell_type": "code",
   "execution_count": 180,
   "metadata": {
    "collapsed": false
   },
   "outputs": [
    {
     "data": {
      "text/plain": [
       "Index(['normalized_losses', 'num_doors', 'bore', 'stroke', 'horsepower',\n",
       "       'peak_rpm', 'price'],\n",
       "      dtype='object')"
      ]
     },
     "execution_count": 180,
     "metadata": {},
     "output_type": "execute_result"
    }
   ],
   "source": [
    "cars.columns[cars.isin(['?']).any()]"
   ]
  },
  {
   "cell_type": "code",
   "execution_count": 181,
   "metadata": {
    "collapsed": false
   },
   "outputs": [
    {
     "data": {
      "text/html": [
       "<div>\n",
       "<style scoped>\n",
       "    .dataframe tbody tr th:only-of-type {\n",
       "        vertical-align: middle;\n",
       "    }\n",
       "\n",
       "    .dataframe tbody tr th {\n",
       "        vertical-align: top;\n",
       "    }\n",
       "\n",
       "    .dataframe thead th {\n",
       "        text-align: right;\n",
       "    }\n",
       "</style>\n",
       "<table border=\"1\" class=\"dataframe\">\n",
       "  <thead>\n",
       "    <tr style=\"text-align: right;\">\n",
       "      <th></th>\n",
       "      <th>symboling</th>\n",
       "      <th>normalized_losses</th>\n",
       "      <th>make</th>\n",
       "      <th>fuel_type</th>\n",
       "      <th>aspiration</th>\n",
       "      <th>num_doors</th>\n",
       "      <th>body_style</th>\n",
       "      <th>drive_wheels</th>\n",
       "      <th>engine_location</th>\n",
       "      <th>wheel_base</th>\n",
       "      <th>...</th>\n",
       "      <th>engine_size</th>\n",
       "      <th>fuel_system</th>\n",
       "      <th>bore</th>\n",
       "      <th>stroke</th>\n",
       "      <th>compression_ratio</th>\n",
       "      <th>horsepower</th>\n",
       "      <th>peak_rpm</th>\n",
       "      <th>city_mpg</th>\n",
       "      <th>highway_mpg</th>\n",
       "      <th>price</th>\n",
       "    </tr>\n",
       "  </thead>\n",
       "  <tbody>\n",
       "    <tr>\n",
       "      <th>0</th>\n",
       "      <td>3</td>\n",
       "      <td>NaN</td>\n",
       "      <td>alfa-romero</td>\n",
       "      <td>gas</td>\n",
       "      <td>std</td>\n",
       "      <td>two</td>\n",
       "      <td>convertible</td>\n",
       "      <td>rwd</td>\n",
       "      <td>front</td>\n",
       "      <td>88.6</td>\n",
       "      <td>...</td>\n",
       "      <td>130</td>\n",
       "      <td>mpfi</td>\n",
       "      <td>3.47</td>\n",
       "      <td>2.68</td>\n",
       "      <td>9.0</td>\n",
       "      <td>111</td>\n",
       "      <td>5000</td>\n",
       "      <td>21</td>\n",
       "      <td>27</td>\n",
       "      <td>16500</td>\n",
       "    </tr>\n",
       "    <tr>\n",
       "      <th>1</th>\n",
       "      <td>1</td>\n",
       "      <td>NaN</td>\n",
       "      <td>alfa-romero</td>\n",
       "      <td>gas</td>\n",
       "      <td>std</td>\n",
       "      <td>two</td>\n",
       "      <td>hatchback</td>\n",
       "      <td>rwd</td>\n",
       "      <td>front</td>\n",
       "      <td>94.5</td>\n",
       "      <td>...</td>\n",
       "      <td>152</td>\n",
       "      <td>mpfi</td>\n",
       "      <td>2.68</td>\n",
       "      <td>3.47</td>\n",
       "      <td>9.0</td>\n",
       "      <td>154</td>\n",
       "      <td>5000</td>\n",
       "      <td>19</td>\n",
       "      <td>26</td>\n",
       "      <td>16500</td>\n",
       "    </tr>\n",
       "    <tr>\n",
       "      <th>2</th>\n",
       "      <td>2</td>\n",
       "      <td>164</td>\n",
       "      <td>audi</td>\n",
       "      <td>gas</td>\n",
       "      <td>std</td>\n",
       "      <td>four</td>\n",
       "      <td>sedan</td>\n",
       "      <td>fwd</td>\n",
       "      <td>front</td>\n",
       "      <td>99.8</td>\n",
       "      <td>...</td>\n",
       "      <td>109</td>\n",
       "      <td>mpfi</td>\n",
       "      <td>3.19</td>\n",
       "      <td>3.40</td>\n",
       "      <td>10.0</td>\n",
       "      <td>102</td>\n",
       "      <td>5500</td>\n",
       "      <td>24</td>\n",
       "      <td>30</td>\n",
       "      <td>13950</td>\n",
       "    </tr>\n",
       "  </tbody>\n",
       "</table>\n",
       "<p>3 rows × 26 columns</p>\n",
       "</div>"
      ],
      "text/plain": [
       "   symboling normalized_losses         make fuel_type aspiration num_doors  \\\n",
       "0          3               NaN  alfa-romero       gas        std       two   \n",
       "1          1               NaN  alfa-romero       gas        std       two   \n",
       "2          2               164         audi       gas        std      four   \n",
       "\n",
       "    body_style drive_wheels engine_location  wheel_base  ...    engine_size  \\\n",
       "0  convertible          rwd           front        88.6  ...            130   \n",
       "1    hatchback          rwd           front        94.5  ...            152   \n",
       "2        sedan          fwd           front        99.8  ...            109   \n",
       "\n",
       "   fuel_system  bore  stroke compression_ratio horsepower  peak_rpm city_mpg  \\\n",
       "0         mpfi  3.47    2.68               9.0        111      5000       21   \n",
       "1         mpfi  2.68    3.47               9.0        154      5000       19   \n",
       "2         mpfi  3.19    3.40              10.0        102      5500       24   \n",
       "\n",
       "  highway_mpg  price  \n",
       "0          27  16500  \n",
       "1          26  16500  \n",
       "2          30  13950  \n",
       "\n",
       "[3 rows x 26 columns]"
      ]
     },
     "execution_count": 181,
     "metadata": {},
     "output_type": "execute_result"
    }
   ],
   "source": [
    "cars = cars.replace('?', np.nan)\n",
    "cars.head(3)"
   ]
  },
  {
   "cell_type": "code",
   "execution_count": 234,
   "metadata": {
    "collapsed": false
   },
   "outputs": [],
   "source": [
    "cars['normalized_losses'] = cars['normalized_losses'].astype(float)\n",
    "# cars['num_doors'].astype(string)\n",
    "# cars['bore'].astype(string)\n",
    "cars['stroke'] = cars['stroke'].astype(float)\n",
    "cars['horsepower'] = cars['horsepower'].astype(float)\n",
    "cars['peak_rpm'] = cars['peak_rpm'].astype(float)\n",
    "cars['wheel_base'] = cars['wheel_base'].astype(float)\n",
    "cars['engine_size'] = cars['engine_size'].astype(float)\n",
    "cars['price'] = cars['price'].astype(float)"
   ]
  },
  {
   "cell_type": "code",
   "execution_count": 183,
   "metadata": {
    "collapsed": false
   },
   "outputs": [
    {
     "data": {
      "text/plain": [
       "False    164\n",
       "True      40\n",
       "Name: normalized_losses, dtype: int64"
      ]
     },
     "execution_count": 183,
     "metadata": {},
     "output_type": "execute_result"
    }
   ],
   "source": [
    "cars['normalized_losses'].isnull().value_counts()"
   ]
  },
  {
   "cell_type": "code",
   "execution_count": 184,
   "metadata": {
    "collapsed": false
   },
   "outputs": [
    {
     "data": {
      "text/plain": [
       "<matplotlib.axes._subplots.AxesSubplot at 0x7fb975ddc4e0>"
      ]
     },
     "execution_count": 184,
     "metadata": {},
     "output_type": "execute_result"
    },
    {
     "data": {
      "image/png": "[encoded data removed]",
      "text/plain": [
       "<matplotlib.figure.Figure at 0x7fb975c34390>"
      ]
     },
     "metadata": {},
     "output_type": "display_data"
    }
   ],
   "source": [
    "import matplotlib.pyplot as plt\n",
    "% matplotlib inline\n",
    "notnull = cars[cars['normalized_losses'].notnull()]['normalized_losses']\n",
    "plt.figure(figsize=(7,2))\n",
    "cars['normalized_losses'].hist()"
   ]
  },
  {
   "cell_type": "code",
   "execution_count": 185,
   "metadata": {
    "collapsed": false
   },
   "outputs": [
    {
     "data": {
      "text/plain": [
       "122.0"
      ]
     },
     "execution_count": 185,
     "metadata": {},
     "output_type": "execute_result"
    }
   ],
   "source": [
    "cars['normalized_losses'].mean()"
   ]
  },
  {
   "cell_type": "code",
   "execution_count": 186,
   "metadata": {
    "collapsed": false
   },
   "outputs": [
    {
     "data": {
      "text/plain": [
       "False    204\n",
       "Name: normalized_losses, dtype: int64"
      ]
     },
     "execution_count": 186,
     "metadata": {},
     "output_type": "execute_result"
    }
   ],
   "source": [
    "cars['normalized_losses'] = cars['normalized_losses'].fillna(cars['normalized_losses'].mean())\n",
    "cars['normalized_losses'].isnull().value_counts()"
   ]
  },
  {
   "cell_type": "code",
   "execution_count": 235,
   "metadata": {
    "collapsed": false
   },
   "outputs": [
    {
     "name": "stdout",
     "output_type": "stream",
     "text": [
      "False    192\n",
      "Name: stroke, dtype: int64\n",
      "False    192\n",
      "Name: horsepower, dtype: int64\n",
      "False    192\n",
      "Name: peak_rpm, dtype: int64\n",
      "False    192\n",
      "Name: wheel_base, dtype: int64\n",
      "False    192\n",
      "Name: engine_size, dtype: int64\n",
      "False    192\n",
      "Name: price, dtype: int64\n"
     ]
    }
   ],
   "source": [
    "print(cars['stroke'].isnull().value_counts())\n",
    "print(cars['horsepower'].isnull().value_counts())\n",
    "print(cars['peak_rpm'].isnull().value_counts())\n",
    "print(cars['wheel_base'].isnull().value_counts())\n",
    "print(cars['engine_size'].isnull().value_counts())\n",
    "print(cars['price'].isnull().value_counts())"
   ]
  },
  {
   "cell_type": "code",
   "execution_count": 188,
   "metadata": {
    "collapsed": true
   },
   "outputs": [],
   "source": [
    "cars = cars.dropna()"
   ]
  },
  {
   "cell_type": "code",
   "execution_count": 236,
   "metadata": {
    "collapsed": false
   },
   "outputs": [
    {
     "data": {
      "text/html": [
       "<div>\n",
       "<style scoped>\n",
       "    .dataframe tbody tr th:only-of-type {\n",
       "        vertical-align: middle;\n",
       "    }\n",
       "\n",
       "    .dataframe tbody tr th {\n",
       "        vertical-align: top;\n",
       "    }\n",
       "\n",
       "    .dataframe thead th {\n",
       "        text-align: right;\n",
       "    }\n",
       "</style>\n",
       "<table border=\"1\" class=\"dataframe\">\n",
       "  <thead>\n",
       "    <tr style=\"text-align: right;\">\n",
       "      <th></th>\n",
       "      <th>normalized_losses</th>\n",
       "      <th>stroke</th>\n",
       "      <th>horsepower</th>\n",
       "      <th>peak_rpm</th>\n",
       "      <th>wheel_base</th>\n",
       "      <th>engine_size</th>\n",
       "    </tr>\n",
       "  </thead>\n",
       "  <tbody>\n",
       "    <tr>\n",
       "      <th>0</th>\n",
       "      <td>0.476562</td>\n",
       "      <td>0.642686</td>\n",
       "      <td>0.423664</td>\n",
       "      <td>0.757576</td>\n",
       "      <td>0.732837</td>\n",
       "      <td>0.398773</td>\n",
       "    </tr>\n",
       "    <tr>\n",
       "      <th>1</th>\n",
       "      <td>0.476562</td>\n",
       "      <td>0.832134</td>\n",
       "      <td>0.587786</td>\n",
       "      <td>0.757576</td>\n",
       "      <td>0.781638</td>\n",
       "      <td>0.466258</td>\n",
       "    </tr>\n",
       "    <tr>\n",
       "      <th>2</th>\n",
       "      <td>0.640625</td>\n",
       "      <td>0.815348</td>\n",
       "      <td>0.389313</td>\n",
       "      <td>0.833333</td>\n",
       "      <td>0.825476</td>\n",
       "      <td>0.334356</td>\n",
       "    </tr>\n",
       "  </tbody>\n",
       "</table>\n",
       "</div>"
      ],
      "text/plain": [
       "   normalized_losses    stroke  horsepower  peak_rpm  wheel_base  engine_size\n",
       "0           0.476562  0.642686    0.423664  0.757576    0.732837     0.398773\n",
       "1           0.476562  0.832134    0.587786  0.757576    0.781638     0.466258\n",
       "2           0.640625  0.815348    0.389313  0.833333    0.825476     0.334356"
      ]
     },
     "execution_count": 236,
     "metadata": {},
     "output_type": "execute_result"
    }
   ],
   "source": [
    "def norm(df, col_ls):\n",
    "    for col in col_ls:\n",
    "        df[col] = df[col]/df[col].max()\n",
    "    return df[col_ls]\n",
    "col_ls = ['normalized_losses', 'stroke', 'horsepower', 'peak_rpm', 'wheel_base','engine_size']\n",
    "cars_copy = cars.copy()\n",
    "cars_copy[col_ls] = norm(cars_copy, col_ls)\n",
    "cars_copy[col_ls].head(3)"
   ]
  },
  {
   "cell_type": "markdown",
   "metadata": {},
   "source": [
    "#### Perform modeling"
   ]
  },
  {
   "cell_type": "code",
   "execution_count": 237,
   "metadata": {
    "collapsed": false
   },
   "outputs": [
    {
     "name": "stdout",
     "output_type": "stream",
     "text": [
      "rmse_losses 9475.409266754656\n",
      "rmse_stroke 8060.080905766394\n",
      "rmse_hp 3801.164431460444\n",
      "rmse_rpm 7510.132606352567\n",
      "wheel_base 5692.434248851716\n",
      "engine_size 3400.4386724362485\n"
     ]
    }
   ],
   "source": [
    "from sklearn.neighbors import KNeighborsRegressor\n",
    "from sklearn.metrics import mean_squared_error\n",
    "def knn_train_test(train_col, target_col, df):\n",
    "    l = int(len(df)*0.75)\n",
    "    train_df = df.iloc[0:l][train_col]\n",
    "    train_df[target_col] = df.iloc[0:l][target_col]\n",
    "    test_df = df.iloc[l:len(df)][train_col]\n",
    "    test_df[target_col] = df.iloc[l:len(df)][target_col]\n",
    "    knn = KNeighborsRegressor()\n",
    "    knn.fit(train_df[train_col], train_df[target_col])\n",
    "    prediction = knn.predict(test_df[train_col])\n",
    "    mse = mean_squared_error(test_df[target_col], prediction)\n",
    "    rmse = mse**0.5\n",
    "    return rmse\n",
    "rmse_losses = knn_train_test(['normalized_losses'], ['price'], cars_copy)\n",
    "print('rmse_losses', rmse_losses)\n",
    "\n",
    "rmse_stroke = knn_train_test(['stroke'], ['price'], cars_copy)\n",
    "print('rmse_stroke', rmse_stroke)\n",
    "\n",
    "rmse_hp = knn_train_test(['horsepower'], ['price'], cars_copy)\n",
    "print('rmse_hp', rmse_hp)\n",
    "\n",
    "rmse_rpm = knn_train_test(['peak_rpm'], ['price'], cars_copy)\n",
    "print('rmse_rpm', rmse_rpm)\n",
    "\n",
    "rmse_base = knn_train_test(['wheel_base'], ['price'], cars_copy)\n",
    "print('wheel_base', rmse_base)\n",
    "\n",
    "rmse_engine = knn_train_test(['engine_size'], ['price'], cars_copy)\n",
    "print('engine_size', rmse_engine)"
   ]
  },
  {
   "cell_type": "code",
   "execution_count": 240,
   "metadata": {
    "collapsed": false
   },
   "outputs": [
    {
     "data": {
      "text/plain": [
       "<matplotlib.collections.PathCollection at 0x7fb96cdc30b8>"
      ]
     },
     "execution_count": 240,
     "metadata": {},
     "output_type": "execute_result"
    },
    {
     "data": {
      "image/png": "[encoded data removed]",
      "text/plain": [
       "<matplotlib.figure.Figure at 0x7fb975b32780>"
      ]
     },
     "metadata": {},
     "output_type": "display_data"
    }
   ],
   "source": [
    "# including k for the funciton\n",
    "def knn_train_test(train_col, target_col, df, k):\n",
    "    l = int(len(df)*0.75)\n",
    "    train_df = df.iloc[0:l][train_col]\n",
    "    train_df[target_col] = df.iloc[0:l][target_col]\n",
    "    test_df = df.iloc[l:len(df)][train_col]\n",
    "    test_df[target_col] = df.iloc[l:len(df)][target_col]\n",
    "    knn = KNeighborsRegressor(n_neighbors = k)\n",
    "    knn.fit(train_df[train_col], train_df[target_col])\n",
    "    prediction = knn.predict(test_df[train_col])\n",
    "    mse = mean_squared_error(test_df[target_col], prediction)\n",
    "    rmse = mse**0.5\n",
    "    return rmse\n",
    "\n",
    "rmses_losses = []\n",
    "rmses_stroke = []\n",
    "rmses_hp = []\n",
    "rmses_rpm = []\n",
    "rmses_base = []\n",
    "rmses_engine = []\n",
    "\n",
    "for k in [1, 3, 5, 7, 9]:\n",
    "    rmse_losses = knn_train_test(['normalized_losses'], ['price'], cars_copy, k)\n",
    "    rmses_losses.append(rmse_losses)\n",
    "    rmse_stroke = knn_train_test(['stroke'], ['price'], cars_copy, k)\n",
    "    rmses_stroke.append(rmse_stroke)\n",
    "    rmse_hp = knn_train_test(['horsepower'], ['price'], cars_copy, k)\n",
    "    rmses_hp.append(rmse_hp)\n",
    "    rmse_rpm = knn_train_test(['peak_rpm'], ['price'], cars_copy, k)\n",
    "    rmses_rpm.append(rmse_rpm)\n",
    "    rmse_base = knn_train_test(['wheel_base'], ['price'], cars_copy, k)\n",
    "    rmses_base.append(rmse_base)\n",
    "    rmse_engine = knn_train_test(['engine_size'], ['price'], cars_copy, k)\n",
    "    rmses_engine.append(rmse_engine)\n",
    "    \n",
    "plt.figure(figsize=(4,3))    \n",
    "plt.scatter([1, 3, 5, 7, 9], rmses_losses, color ='red')\n",
    "plt.scatter([1, 3, 5, 7, 9], rmses_stroke, color='orange')\n",
    "plt.scatter([1, 3, 5, 7, 9], rmses_hp, color = 'green')\n",
    "plt.scatter([1, 3, 5, 7, 9], rmses_rpm, color = 'blue')\n",
    "plt.scatter([1, 3, 5, 7, 9], rmses_base, color = 'black')\n",
    "plt.scatter([1, 3, 5, 7, 9], rmses_engine, color = 'gray')"
   ]
  },
  {
   "cell_type": "code",
   "execution_count": 242,
   "metadata": {
    "collapsed": false
   },
   "outputs": [
    {
     "name": "stdout",
     "output_type": "stream",
     "text": [
      "rmse_two 3426.023181717641\n",
      "rmse_three 3640.1282416740946\n",
      "rmse_four 3938.966279791353\n",
      "rmse_five 3272.9733654329257\n"
     ]
    }
   ],
   "source": [
    "# modify the fucntion to work with multiple columns\n",
    "def knn_train_test(train_col, target_col, df):\n",
    "    l = int(len(df)*0.75)\n",
    "    train_df = df.iloc[0:l][train_col]\n",
    "    train_df[target_col] = df.iloc[0:l][target_col]\n",
    "    test_df = df.iloc[l:len(df)][train_col]\n",
    "    test_df[target_col] = df.iloc[l:len(df)][target_col]\n",
    "    knn = KNeighborsRegressor()\n",
    "    knn.fit(train_df[train_col], train_df[target_col])\n",
    "    prediction = knn.predict(test_df[train_col])\n",
    "    mse = mean_squared_error(test_df[target_col], prediction)\n",
    "    rmse = mse**0.5\n",
    "    return rmse\n",
    "rmse_two = knn_train_test(['horsepower', 'engine_size'], ['price'], cars_copy)\n",
    "print('rmse_two', rmse_two)\n",
    "rmse_three = knn_train_test(['horsepower', 'engine_size', 'wheel_base'], ['price'], cars_copy)\n",
    "print('rmse_three', rmse_three)\n",
    "rmse_four = knn_train_test(['normalized_losses', 'horsepower', 'engine_size', 'wheel_base'], ['price'], cars_copy)\n",
    "print('rmse_four', rmse_four)\n",
    "rmse_five = knn_train_test(['normalized_losses', 'horsepower', 'engine_size', 'wheel_base', 'stroke'], ['price'], cars_copy)\n",
    "print('rmse_five', rmse_five)"
   ]
  },
  {
   "cell_type": "code",
   "execution_count": 243,
   "metadata": {
    "collapsed": false
   },
   "outputs": [
    {
     "data": {
      "text/plain": [
       "<matplotlib.collections.PathCollection at 0x7fb96cab2c50>"
      ]
     },
     "execution_count": 243,
     "metadata": {},
     "output_type": "execute_result"
    },
    {
     "data": {
      "image/png": "[encoded data removed]",
      "text/plain": [
       "<matplotlib.figure.Figure at 0x7fb96ce6d390>"
      ]
     },
     "metadata": {},
     "output_type": "display_data"
    }
   ],
   "source": [
    "def knn_train_test(train_col, target_col, df, k):\n",
    "    l = int(len(df)*0.75)\n",
    "    train_df = df.iloc[0:l][train_col]\n",
    "    train_df[target_col] = df.iloc[0:l][target_col]\n",
    "    test_df = df.iloc[l:len(df)][train_col]\n",
    "    test_df[target_col] = df.iloc[l:len(df)][target_col]\n",
    "    knn = KNeighborsRegressor(n_neighbors = k)\n",
    "    knn.fit(train_df[train_col], train_df[target_col])\n",
    "    prediction = knn.predict(test_df[train_col])\n",
    "    mse = mean_squared_error(test_df[target_col], prediction)\n",
    "    rmse = mse**0.5\n",
    "    return rmse\n",
    "\n",
    "rmses_five = []\n",
    "rmses_two = []\n",
    "rmses_three = []\n",
    "\n",
    "for k in range(1,26):\n",
    "    rmse_five = knn_train_test(['normalized_losses', 'horsepower', 'engine_size', 'wheel_base', 'stroke'], ['price'], cars_copy, k)\n",
    "    rmses_five.append(rmse_five)\n",
    "    rmse_two = knn_train_test(['horsepower', 'engine_size'], ['price'], cars_copy, k)\n",
    "    rmses_two.append(rmse_two)\n",
    "    rmse_three = knn_train_test(['horsepower', 'engine_size', 'wheel_base'], ['price'], cars_copy, k)\n",
    "    rmses_three.append(rmse_three)\n",
    "plt.scatter(list(range(1,26)), rmses_five, color ='red')\n",
    "plt.scatter(list(range(1,26)), rmses_two, color='blue')\n",
    "plt.scatter(list(range(1,26)), rmses_three, color = 'green')"
   ]
  },
  {
   "cell_type": "markdown",
   "metadata": {},
   "source": [
    "#### prediction using k-fold cross validation instead of test/train validation"
   ]
  },
  {
   "cell_type": "code",
   "execution_count": 244,
   "metadata": {
    "collapsed": false
   },
   "outputs": [
    {
     "name": "stdout",
     "output_type": "stream",
     "text": [
      "3 folds:  avg RMSE:  3607.938644086265   std RMSE:  160.98717821812252\n",
      "5 folds:  avg RMSE:  3306.345462839101   std RMSE:  521.1429226791504\n",
      "7 folds:  avg RMSE:  3179.81422976272   std RMSE:  819.2218000812567\n",
      "9 folds:  avg RMSE:  2870.982910498852   std RMSE:  1138.508148676529\n",
      "10 folds:  avg RMSE:  2944.023562681618   std RMSE:  1130.8905255252612\n",
      "11 folds:  avg RMSE:  2751.181892816185   std RMSE:  1210.16130634554\n",
      "13 folds:  avg RMSE:  2862.331193469457   std RMSE:  1097.931262861495\n",
      "15 folds:  avg RMSE:  2766.2381127479343   std RMSE:  1355.9301349300836\n",
      "17 folds:  avg RMSE:  2771.8706792970565   std RMSE:  1387.7957146673268\n",
      "19 folds:  avg RMSE:  2703.876272786232   std RMSE:  1408.8955374255072\n",
      "21 folds:  avg RMSE:  2835.9196538388446   std RMSE:  1390.8919781475938\n",
      "23 folds:  avg RMSE:  2643.4619624290194   std RMSE:  1418.5237904372023\n"
     ]
    }
   ],
   "source": [
    "from sklearn.model_selection import cross_val_score, KFold\n",
    "num_folds = [3, 5, 7, 9, 10, 11, 13, 15, 17, 19, 21, 23]\n",
    "cols = ['normalized_losses', 'horsepower', 'engine_size', 'wheel_base', 'stroke']\n",
    "for fold in num_folds:\n",
    "    kf = KFold(fold, shuffle=True, random_state=1)\n",
    "    knn = KNeighborsRegressor()\n",
    "    mses = cross_val_score(knn, cars_copy[cols], cars_copy[\"price\"], scoring=\"neg_mean_squared_error\", cv=kf)\n",
    "    rmses = np.sqrt(np.absolute(mses))\n",
    "    avg_rmse = np.mean(rmses)\n",
    "    std_rmse = np.std(rmses)\n",
    "    print(str(fold), \"folds: \", \"avg RMSE: \", str(avg_rmse), \"  std RMSE: \", str(std_rmse))"
   ]
  }
 ],
 "metadata": {
  "kernelspec": {
   "display_name": "Python 3",
   "language": "python",
   "name": "python3"
  },
  "language_info": {
   "codemirror_mode": {
    "name": "ipython",
    "version": 3
   },
   "file_extension": ".py",
   "mimetype": "text/x-python",
   "name": "python",
   "nbconvert_exporter": "python",
   "pygments_lexer": "ipython3",
   "version": "3.4.3"
  }
 },
 "nbformat": 4,
 "nbformat_minor": 2
}
